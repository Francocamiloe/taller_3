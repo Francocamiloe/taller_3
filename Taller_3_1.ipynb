{
 "cells": [
  {
   "cell_type": "markdown",
   "metadata": {},
   "source": [
    "# Taller "
   ]
  },
  {
   "cell_type": "markdown",
   "metadata": {},
   "source": [
    "En este taller trabajará con dos dataset  'title.csv' y 'cast.csv'. El archivo 'title.csv' contiene la lista de películas con el año de estreno; mientras que el archivo 'cast.csv' tiene cinco columnas que almacenan el título de la película, año de estreno, elenco de estrellas, tipo (actor / actriz), personajes y calificaciones de los actores, como se muestra a continuación,"
   ]
  },
  {
   "cell_type": "code",
   "execution_count": 1,
   "metadata": {},
   "outputs": [],
   "source": [
    "#En esta celda se van a dejar  las librerías que usará a lo largo del taller\n",
    "import pandas as pd"
   ]
  },
  {
   "cell_type": "code",
   "execution_count": 2,
   "metadata": {},
   "outputs": [],
   "source": [
    "# Cargas los dos datasets\n",
    "\n",
    "title = pd.read_csv(\"titles.csv\")\n",
    "cast = pd.read_csv(\"cast.csv\")\n"
   ]
  },
  {
   "cell_type": "code",
   "execution_count": 3,
   "metadata": {},
   "outputs": [
    {
     "data": {
      "text/html": [
       "<div>\n",
       "<style scoped>\n",
       "    .dataframe tbody tr th:only-of-type {\n",
       "        vertical-align: middle;\n",
       "    }\n",
       "\n",
       "    .dataframe tbody tr th {\n",
       "        vertical-align: top;\n",
       "    }\n",
       "\n",
       "    .dataframe thead th {\n",
       "        text-align: right;\n",
       "    }\n",
       "</style>\n",
       "<table border=\"1\" class=\"dataframe\">\n",
       "  <thead>\n",
       "    <tr style=\"text-align: right;\">\n",
       "      <th></th>\n",
       "      <th>title</th>\n",
       "      <th>year</th>\n",
       "    </tr>\n",
       "  </thead>\n",
       "  <tbody>\n",
       "    <tr>\n",
       "      <th>0</th>\n",
       "      <td>Mahler</td>\n",
       "      <td>1974</td>\n",
       "    </tr>\n",
       "    <tr>\n",
       "      <th>1</th>\n",
       "      <td>Ogon, voda i... mednye truby</td>\n",
       "      <td>1968</td>\n",
       "    </tr>\n",
       "    <tr>\n",
       "      <th>2</th>\n",
       "      <td>Ana Nojoom bent alasherah wamotalagah</td>\n",
       "      <td>2014</td>\n",
       "    </tr>\n",
       "    <tr>\n",
       "      <th>3</th>\n",
       "      <td>Malu de Bicicleta</td>\n",
       "      <td>2010</td>\n",
       "    </tr>\n",
       "    <tr>\n",
       "      <th>4</th>\n",
       "      <td>Nazareno Apostol: Boy Ahas</td>\n",
       "      <td>1989</td>\n",
       "    </tr>\n",
       "    <tr>\n",
       "      <th>...</th>\n",
       "      <td>...</td>\n",
       "      <td>...</td>\n",
       "    </tr>\n",
       "    <tr>\n",
       "      <th>230402</th>\n",
       "      <td>El lobo negro</td>\n",
       "      <td>1981</td>\n",
       "    </tr>\n",
       "    <tr>\n",
       "      <th>230403</th>\n",
       "      <td>Komu na Rusi zhit...</td>\n",
       "      <td>1989</td>\n",
       "    </tr>\n",
       "    <tr>\n",
       "      <th>230404</th>\n",
       "      <td>Senotaji</td>\n",
       "      <td>2013</td>\n",
       "    </tr>\n",
       "    <tr>\n",
       "      <th>230405</th>\n",
       "      <td>The Leopard Woman</td>\n",
       "      <td>1920</td>\n",
       "    </tr>\n",
       "    <tr>\n",
       "      <th>230406</th>\n",
       "      <td>Mio caro assassino</td>\n",
       "      <td>1972</td>\n",
       "    </tr>\n",
       "  </tbody>\n",
       "</table>\n",
       "<p>230407 rows × 2 columns</p>\n",
       "</div>"
      ],
      "text/plain": [
       "                                        title  year\n",
       "0                                      Mahler  1974\n",
       "1                Ogon, voda i... mednye truby  1968\n",
       "2       Ana Nojoom bent alasherah wamotalagah  2014\n",
       "3                           Malu de Bicicleta  2010\n",
       "4                  Nazareno Apostol: Boy Ahas  1989\n",
       "...                                       ...   ...\n",
       "230402                          El lobo negro  1981\n",
       "230403                   Komu na Rusi zhit...  1989\n",
       "230404                               Senotaji  2013\n",
       "230405                      The Leopard Woman  1920\n",
       "230406                     Mio caro assassino  1972\n",
       "\n",
       "[230407 rows x 2 columns]"
      ]
     },
     "execution_count": 3,
     "metadata": {},
     "output_type": "execute_result"
    }
   ],
   "source": [
    "title"
   ]
  },
  {
   "cell_type": "code",
   "execution_count": 4,
   "metadata": {
    "scrolled": true
   },
   "outputs": [
    {
     "data": {
      "text/html": [
       "<div>\n",
       "<style scoped>\n",
       "    .dataframe tbody tr th:only-of-type {\n",
       "        vertical-align: middle;\n",
       "    }\n",
       "\n",
       "    .dataframe tbody tr th {\n",
       "        vertical-align: top;\n",
       "    }\n",
       "\n",
       "    .dataframe thead th {\n",
       "        text-align: right;\n",
       "    }\n",
       "</style>\n",
       "<table border=\"1\" class=\"dataframe\">\n",
       "  <thead>\n",
       "    <tr style=\"text-align: right;\">\n",
       "      <th></th>\n",
       "      <th>title</th>\n",
       "      <th>year</th>\n",
       "    </tr>\n",
       "  </thead>\n",
       "  <tbody>\n",
       "    <tr>\n",
       "      <th>0</th>\n",
       "      <td>Mahler</td>\n",
       "      <td>1974</td>\n",
       "    </tr>\n",
       "    <tr>\n",
       "      <th>1</th>\n",
       "      <td>Ogon, voda i... mednye truby</td>\n",
       "      <td>1968</td>\n",
       "    </tr>\n",
       "    <tr>\n",
       "      <th>2</th>\n",
       "      <td>Ana Nojoom bent alasherah wamotalagah</td>\n",
       "      <td>2014</td>\n",
       "    </tr>\n",
       "    <tr>\n",
       "      <th>3</th>\n",
       "      <td>Malu de Bicicleta</td>\n",
       "      <td>2010</td>\n",
       "    </tr>\n",
       "    <tr>\n",
       "      <th>4</th>\n",
       "      <td>Nazareno Apostol: Boy Ahas</td>\n",
       "      <td>1989</td>\n",
       "    </tr>\n",
       "  </tbody>\n",
       "</table>\n",
       "</div>"
      ],
      "text/plain": [
       "                                   title  year\n",
       "0                                 Mahler  1974\n",
       "1           Ogon, voda i... mednye truby  1968\n",
       "2  Ana Nojoom bent alasherah wamotalagah  2014\n",
       "3                      Malu de Bicicleta  2010\n",
       "4             Nazareno Apostol: Boy Ahas  1989"
      ]
     },
     "execution_count": 4,
     "metadata": {},
     "output_type": "execute_result"
    }
   ],
   "source": [
    "#Despliegue una muestra del dataset title (head, tail, sample)\n",
    "title.head()"
   ]
  },
  {
   "cell_type": "code",
   "execution_count": 5,
   "metadata": {
    "scrolled": true
   },
   "outputs": [
    {
     "data": {
      "text/html": [
       "<div>\n",
       "<style scoped>\n",
       "    .dataframe tbody tr th:only-of-type {\n",
       "        vertical-align: middle;\n",
       "    }\n",
       "\n",
       "    .dataframe tbody tr th {\n",
       "        vertical-align: top;\n",
       "    }\n",
       "\n",
       "    .dataframe thead th {\n",
       "        text-align: right;\n",
       "    }\n",
       "</style>\n",
       "<table border=\"1\" class=\"dataframe\">\n",
       "  <thead>\n",
       "    <tr style=\"text-align: right;\">\n",
       "      <th></th>\n",
       "      <th>title</th>\n",
       "      <th>year</th>\n",
       "    </tr>\n",
       "  </thead>\n",
       "  <tbody>\n",
       "    <tr>\n",
       "      <th>230402</th>\n",
       "      <td>El lobo negro</td>\n",
       "      <td>1981</td>\n",
       "    </tr>\n",
       "    <tr>\n",
       "      <th>230403</th>\n",
       "      <td>Komu na Rusi zhit...</td>\n",
       "      <td>1989</td>\n",
       "    </tr>\n",
       "    <tr>\n",
       "      <th>230404</th>\n",
       "      <td>Senotaji</td>\n",
       "      <td>2013</td>\n",
       "    </tr>\n",
       "    <tr>\n",
       "      <th>230405</th>\n",
       "      <td>The Leopard Woman</td>\n",
       "      <td>1920</td>\n",
       "    </tr>\n",
       "    <tr>\n",
       "      <th>230406</th>\n",
       "      <td>Mio caro assassino</td>\n",
       "      <td>1972</td>\n",
       "    </tr>\n",
       "  </tbody>\n",
       "</table>\n",
       "</div>"
      ],
      "text/plain": [
       "                       title  year\n",
       "230402         El lobo negro  1981\n",
       "230403  Komu na Rusi zhit...  1989\n",
       "230404              Senotaji  2013\n",
       "230405     The Leopard Woman  1920\n",
       "230406    Mio caro assassino  1972"
      ]
     },
     "execution_count": 5,
     "metadata": {},
     "output_type": "execute_result"
    }
   ],
   "source": [
    "title.tail()"
   ]
  },
  {
   "cell_type": "code",
   "execution_count": 6,
   "metadata": {},
   "outputs": [
    {
     "data": {
      "text/html": [
       "<div>\n",
       "<style scoped>\n",
       "    .dataframe tbody tr th:only-of-type {\n",
       "        vertical-align: middle;\n",
       "    }\n",
       "\n",
       "    .dataframe tbody tr th {\n",
       "        vertical-align: top;\n",
       "    }\n",
       "\n",
       "    .dataframe thead th {\n",
       "        text-align: right;\n",
       "    }\n",
       "</style>\n",
       "<table border=\"1\" class=\"dataframe\">\n",
       "  <thead>\n",
       "    <tr style=\"text-align: right;\">\n",
       "      <th></th>\n",
       "      <th>title</th>\n",
       "      <th>year</th>\n",
       "    </tr>\n",
       "  </thead>\n",
       "  <tbody>\n",
       "    <tr>\n",
       "      <th>214070</th>\n",
       "      <td>Spirito Santo e le 5 magnifiche canaglie</td>\n",
       "      <td>1972</td>\n",
       "    </tr>\n",
       "    <tr>\n",
       "      <th>75884</th>\n",
       "      <td>Dang nan ren bian cheng nu ren</td>\n",
       "      <td>2002</td>\n",
       "    </tr>\n",
       "    <tr>\n",
       "      <th>201104</th>\n",
       "      <td>Gli eroi di Fort Worth</td>\n",
       "      <td>1965</td>\n",
       "    </tr>\n",
       "    <tr>\n",
       "      <th>16819</th>\n",
       "      <td>Maa Baap</td>\n",
       "      <td>1944</td>\n",
       "    </tr>\n",
       "    <tr>\n",
       "      <th>197351</th>\n",
       "      <td>Belali hayat</td>\n",
       "      <td>1968</td>\n",
       "    </tr>\n",
       "  </tbody>\n",
       "</table>\n",
       "</div>"
      ],
      "text/plain": [
       "                                           title  year\n",
       "214070  Spirito Santo e le 5 magnifiche canaglie  1972\n",
       "75884             Dang nan ren bian cheng nu ren  2002\n",
       "201104                    Gli eroi di Fort Worth  1965\n",
       "16819                                   Maa Baap  1944\n",
       "197351                              Belali hayat  1968"
      ]
     },
     "execution_count": 6,
     "metadata": {},
     "output_type": "execute_result"
    }
   ],
   "source": [
    "title.sample(5)"
   ]
  },
  {
   "cell_type": "code",
   "execution_count": 7,
   "metadata": {},
   "outputs": [
    {
     "data": {
      "text/html": [
       "<div>\n",
       "<style scoped>\n",
       "    .dataframe tbody tr th:only-of-type {\n",
       "        vertical-align: middle;\n",
       "    }\n",
       "\n",
       "    .dataframe tbody tr th {\n",
       "        vertical-align: top;\n",
       "    }\n",
       "\n",
       "    .dataframe thead th {\n",
       "        text-align: right;\n",
       "    }\n",
       "</style>\n",
       "<table border=\"1\" class=\"dataframe\">\n",
       "  <thead>\n",
       "    <tr style=\"text-align: right;\">\n",
       "      <th></th>\n",
       "      <th>title</th>\n",
       "      <th>year</th>\n",
       "      <th>name</th>\n",
       "      <th>type</th>\n",
       "      <th>character</th>\n",
       "      <th>n</th>\n",
       "    </tr>\n",
       "  </thead>\n",
       "  <tbody>\n",
       "    <tr>\n",
       "      <th>0</th>\n",
       "      <td>Closet Monster</td>\n",
       "      <td>2015</td>\n",
       "      <td>Buffy #1</td>\n",
       "      <td>actor</td>\n",
       "      <td>Buffy 4</td>\n",
       "      <td>31.0</td>\n",
       "    </tr>\n",
       "    <tr>\n",
       "      <th>1</th>\n",
       "      <td>Suuri illusioni</td>\n",
       "      <td>1985</td>\n",
       "      <td>Homo $</td>\n",
       "      <td>actor</td>\n",
       "      <td>Guests</td>\n",
       "      <td>22.0</td>\n",
       "    </tr>\n",
       "    <tr>\n",
       "      <th>2</th>\n",
       "      <td>Battle of the Sexes</td>\n",
       "      <td>2017</td>\n",
       "      <td>$hutter</td>\n",
       "      <td>actor</td>\n",
       "      <td>Bobby Riggs Fan</td>\n",
       "      <td>10.0</td>\n",
       "    </tr>\n",
       "    <tr>\n",
       "      <th>3</th>\n",
       "      <td>Secret in Their Eyes</td>\n",
       "      <td>2015</td>\n",
       "      <td>$hutter</td>\n",
       "      <td>actor</td>\n",
       "      <td>2002 Dodger Fan</td>\n",
       "      <td>NaN</td>\n",
       "    </tr>\n",
       "    <tr>\n",
       "      <th>4</th>\n",
       "      <td>Steve Jobs</td>\n",
       "      <td>2015</td>\n",
       "      <td>$hutter</td>\n",
       "      <td>actor</td>\n",
       "      <td>1988 Opera House Patron</td>\n",
       "      <td>NaN</td>\n",
       "    </tr>\n",
       "  </tbody>\n",
       "</table>\n",
       "</div>"
      ],
      "text/plain": [
       "                  title  year      name   type                character     n\n",
       "0        Closet Monster  2015  Buffy #1  actor                  Buffy 4  31.0\n",
       "1       Suuri illusioni  1985    Homo $  actor                   Guests  22.0\n",
       "2   Battle of the Sexes  2017   $hutter  actor          Bobby Riggs Fan  10.0\n",
       "3  Secret in Their Eyes  2015   $hutter  actor          2002 Dodger Fan   NaN\n",
       "4            Steve Jobs  2015   $hutter  actor  1988 Opera House Patron   NaN"
      ]
     },
     "execution_count": 7,
     "metadata": {},
     "output_type": "execute_result"
    }
   ],
   "source": [
    "#Despliegue una muestra del dataset cast  (head, tail, sample)\n",
    "cast.head()"
   ]
  },
  {
   "cell_type": "code",
   "execution_count": 8,
   "metadata": {},
   "outputs": [
    {
     "data": {
      "text/html": [
       "<div>\n",
       "<style scoped>\n",
       "    .dataframe tbody tr th:only-of-type {\n",
       "        vertical-align: middle;\n",
       "    }\n",
       "\n",
       "    .dataframe tbody tr th {\n",
       "        vertical-align: top;\n",
       "    }\n",
       "\n",
       "    .dataframe thead th {\n",
       "        text-align: right;\n",
       "    }\n",
       "</style>\n",
       "<table border=\"1\" class=\"dataframe\">\n",
       "  <thead>\n",
       "    <tr style=\"text-align: right;\">\n",
       "      <th></th>\n",
       "      <th>title</th>\n",
       "      <th>year</th>\n",
       "      <th>name</th>\n",
       "      <th>type</th>\n",
       "      <th>character</th>\n",
       "      <th>n</th>\n",
       "    </tr>\n",
       "  </thead>\n",
       "  <tbody>\n",
       "    <tr>\n",
       "      <th>3564645</th>\n",
       "      <td>Stuttur Frakki</td>\n",
       "      <td>1993</td>\n",
       "      <td>Sveinbj?rg ??rhallsd?ttir</td>\n",
       "      <td>actress</td>\n",
       "      <td>Flugfreyja</td>\n",
       "      <td>24.0</td>\n",
       "    </tr>\n",
       "    <tr>\n",
       "      <th>3564646</th>\n",
       "      <td>Foxtrot</td>\n",
       "      <td>1988</td>\n",
       "      <td>Lilja ??risd?ttir</td>\n",
       "      <td>actress</td>\n",
       "      <td>D?ra</td>\n",
       "      <td>24.0</td>\n",
       "    </tr>\n",
       "    <tr>\n",
       "      <th>3564647</th>\n",
       "      <td>Niceland (Population. 1.000.002)</td>\n",
       "      <td>2004</td>\n",
       "      <td>Sigr??ur J?na ??risd?ttir</td>\n",
       "      <td>actress</td>\n",
       "      <td>Woman in Bus</td>\n",
       "      <td>26.0</td>\n",
       "    </tr>\n",
       "    <tr>\n",
       "      <th>3564648</th>\n",
       "      <td>U.S.S.S.S...</td>\n",
       "      <td>2003</td>\n",
       "      <td>Krist?n Andrea ??r?ard?ttir</td>\n",
       "      <td>actress</td>\n",
       "      <td>Afgr.dama ? bens?nst??</td>\n",
       "      <td>17.0</td>\n",
       "    </tr>\n",
       "    <tr>\n",
       "      <th>3564649</th>\n",
       "      <td>Bye Bye Blue Bird</td>\n",
       "      <td>1999</td>\n",
       "      <td>Rosa ? R?gvu</td>\n",
       "      <td>actress</td>\n",
       "      <td>Pensionatv?rtinde</td>\n",
       "      <td>NaN</td>\n",
       "    </tr>\n",
       "  </tbody>\n",
       "</table>\n",
       "</div>"
      ],
      "text/plain": [
       "                                    title  year                         name  \\\n",
       "3564645                    Stuttur Frakki  1993    Sveinbj?rg ??rhallsd?ttir   \n",
       "3564646                           Foxtrot  1988            Lilja ??risd?ttir   \n",
       "3564647  Niceland (Population. 1.000.002)  2004    Sigr??ur J?na ??risd?ttir   \n",
       "3564648                      U.S.S.S.S...  2003  Krist?n Andrea ??r?ard?ttir   \n",
       "3564649                 Bye Bye Blue Bird  1999                 Rosa ? R?gvu   \n",
       "\n",
       "            type               character     n  \n",
       "3564645  actress              Flugfreyja  24.0  \n",
       "3564646  actress                    D?ra  24.0  \n",
       "3564647  actress            Woman in Bus  26.0  \n",
       "3564648  actress  Afgr.dama ? bens?nst??  17.0  \n",
       "3564649  actress       Pensionatv?rtinde   NaN  "
      ]
     },
     "execution_count": 8,
     "metadata": {},
     "output_type": "execute_result"
    }
   ],
   "source": [
    "cast.tail()"
   ]
  },
  {
   "cell_type": "code",
   "execution_count": 9,
   "metadata": {},
   "outputs": [
    {
     "data": {
      "text/html": [
       "<div>\n",
       "<style scoped>\n",
       "    .dataframe tbody tr th:only-of-type {\n",
       "        vertical-align: middle;\n",
       "    }\n",
       "\n",
       "    .dataframe tbody tr th {\n",
       "        vertical-align: top;\n",
       "    }\n",
       "\n",
       "    .dataframe thead th {\n",
       "        text-align: right;\n",
       "    }\n",
       "</style>\n",
       "<table border=\"1\" class=\"dataframe\">\n",
       "  <thead>\n",
       "    <tr style=\"text-align: right;\">\n",
       "      <th></th>\n",
       "      <th>title</th>\n",
       "      <th>year</th>\n",
       "      <th>name</th>\n",
       "      <th>type</th>\n",
       "      <th>character</th>\n",
       "      <th>n</th>\n",
       "    </tr>\n",
       "  </thead>\n",
       "  <tbody>\n",
       "    <tr>\n",
       "      <th>1689662</th>\n",
       "      <td>On Deadly Ground</td>\n",
       "      <td>1994</td>\n",
       "      <td>Bob (II) Pepper</td>\n",
       "      <td>actor</td>\n",
       "      <td>Oil Rig Worker</td>\n",
       "      <td>NaN</td>\n",
       "    </tr>\n",
       "    <tr>\n",
       "      <th>3311011</th>\n",
       "      <td>Knocking at Heaven's Door</td>\n",
       "      <td>1978</td>\n",
       "      <td>Carolyn Russell</td>\n",
       "      <td>actress</td>\n",
       "      <td>George's D-in-Law</td>\n",
       "      <td>NaN</td>\n",
       "    </tr>\n",
       "    <tr>\n",
       "      <th>2850961</th>\n",
       "      <td>You Tell Me</td>\n",
       "      <td>2006</td>\n",
       "      <td>Maren Hefler</td>\n",
       "      <td>actress</td>\n",
       "      <td>Reed</td>\n",
       "      <td>4.0</td>\n",
       "    </tr>\n",
       "  </tbody>\n",
       "</table>\n",
       "</div>"
      ],
      "text/plain": [
       "                             title  year             name     type  \\\n",
       "1689662           On Deadly Ground  1994  Bob (II) Pepper    actor   \n",
       "3311011  Knocking at Heaven's Door  1978  Carolyn Russell  actress   \n",
       "2850961                You Tell Me  2006     Maren Hefler  actress   \n",
       "\n",
       "                 character    n  \n",
       "1689662     Oil Rig Worker  NaN  \n",
       "3311011  George's D-in-Law  NaN  \n",
       "2850961               Reed  4.0  "
      ]
     },
     "execution_count": 9,
     "metadata": {},
     "output_type": "execute_result"
    }
   ],
   "source": [
    "cast.sample(3)"
   ]
  },
  {
   "cell_type": "code",
   "execution_count": 10,
   "metadata": {
    "scrolled": true
   },
   "outputs": [
    {
     "name": "stdout",
     "output_type": "stream",
     "text": [
      "<class 'pandas.core.frame.DataFrame'>\n",
      "RangeIndex: 3564650 entries, 0 to 3564649\n",
      "Data columns (total 6 columns):\n",
      " #   Column     Dtype  \n",
      "---  ------     -----  \n",
      " 0   title      object \n",
      " 1   year       int64  \n",
      " 2   name       object \n",
      " 3   type       object \n",
      " 4   character  object \n",
      " 5   n          float64\n",
      "dtypes: float64(1), int64(1), object(4)\n",
      "memory usage: 163.2+ MB\n"
     ]
    }
   ],
   "source": [
    "cast.info()"
   ]
  },
  {
   "cell_type": "code",
   "execution_count": 11,
   "metadata": {},
   "outputs": [
    {
     "data": {
      "text/plain": [
       "Index(['title', 'year', 'name', 'type', 'character', 'n'], dtype='object')"
      ]
     },
     "execution_count": 11,
     "metadata": {},
     "output_type": "execute_result"
    }
   ],
   "source": [
    "cast.columns"
   ]
  },
  {
   "cell_type": "code",
   "execution_count": 12,
   "metadata": {
    "scrolled": true
   },
   "outputs": [
    {
     "data": {
      "text/plain": [
       "title    230407\n",
       "year     230407\n",
       "dtype: int64"
      ]
     },
     "execution_count": 12,
     "metadata": {},
     "output_type": "execute_result"
    }
   ],
   "source": [
    "#Cuantos nomrbes de peliculas hay en title y cuantos son distintos\n",
    "title.count()\n",
    "#len(title)\n",
    "#title.title.value_counts()"
   ]
  },
  {
   "cell_type": "code",
   "execution_count": 13,
   "metadata": {
    "scrolled": false
   },
   "outputs": [
    {
     "data": {
      "text/plain": [
       "210691"
      ]
     },
     "execution_count": 13,
     "metadata": {},
     "output_type": "execute_result"
    }
   ],
   "source": [
    "len(title.title.unique())"
   ]
  },
  {
   "cell_type": "code",
   "execution_count": 14,
   "metadata": {},
   "outputs": [
    {
     "data": {
      "text/plain": [
       "210691"
      ]
     },
     "execution_count": 14,
     "metadata": {},
     "output_type": "execute_result"
    }
   ],
   "source": [
    "#len(set(title.title))\n",
    "len(title.groupby('title').count())"
   ]
  },
  {
   "cell_type": "code",
   "execution_count": 15,
   "metadata": {
    "scrolled": true
   },
   "outputs": [
    {
     "data": {
      "text/plain": [
       "year\n",
       "1894      1\n",
       "1898      1\n",
       "1899      1\n",
       "1900      4\n",
       "1903      1\n",
       "       ... \n",
       "2020    104\n",
       "2021     15\n",
       "2022     12\n",
       "2023     10\n",
       "2024      1\n",
       "Name: title, Length: 125, dtype: int64"
      ]
     },
     "execution_count": 15,
     "metadata": {},
     "output_type": "execute_result"
    }
   ],
   "source": [
    "#Cuantas peliculas por año en el dataset titles y cuantas en el dataset cast\n",
    "title.groupby([\"year\"])[\"title\"].count()"
   ]
  },
  {
   "cell_type": "code",
   "execution_count": 16,
   "metadata": {},
   "outputs": [
    {
     "data": {
      "text/plain": [
       "year\n",
       "1894      3\n",
       "1900      2\n",
       "1905      1\n",
       "1906     17\n",
       "1907      5\n",
       "       ... \n",
       "2019    262\n",
       "2020    123\n",
       "2021     22\n",
       "2022     17\n",
       "2023      1\n",
       "Name: title, Length: 121, dtype: int64"
      ]
     },
     "execution_count": 16,
     "metadata": {},
     "output_type": "execute_result"
    }
   ],
   "source": [
    "cast.groupby([\"year\"])[\"title\"].count()"
   ]
  },
  {
   "cell_type": "code",
   "execution_count": 17,
   "metadata": {},
   "outputs": [],
   "source": [
    "# cuantas peliculas tienen por nombre \"Hamlet\"\n",
    "Nombre_Hamlet= title[title['title'] == 'Hamlet']\n"
   ]
  },
  {
   "cell_type": "code",
   "execution_count": 18,
   "metadata": {},
   "outputs": [
    {
     "data": {
      "text/plain": [
       "title    19\n",
       "year     19\n",
       "dtype: int64"
      ]
     },
     "execution_count": 18,
     "metadata": {},
     "output_type": "execute_result"
    }
   ],
   "source": [
    "Nombre_Hamlet.count()"
   ]
  },
  {
   "cell_type": "code",
   "execution_count": 19,
   "metadata": {},
   "outputs": [],
   "source": [
    "#Cuantas peliculas son de nombre \"Carmen\" y son de antes de 1950\n",
    "Pelicula_Carmen = title[(title['title'] == 'Carmen') & (title['year'] <= 1950)]\n"
   ]
  },
  {
   "cell_type": "code",
   "execution_count": 20,
   "metadata": {},
   "outputs": [
    {
     "data": {
      "text/plain": [
       "title    8\n",
       "year     8\n",
       "dtype: int64"
      ]
     },
     "execution_count": 20,
     "metadata": {},
     "output_type": "execute_result"
    }
   ],
   "source": [
    "Pelicula_Carmen.count()\n"
   ]
  },
  {
   "cell_type": "code",
   "execution_count": 21,
   "metadata": {},
   "outputs": [
    {
     "data": {
      "text/plain": [
       "Hamlet                     19\n",
       "Carmen                     16\n",
       "Macbeth                    15\n",
       "Hero                       11\n",
       "Maya                       11\n",
       "                           ..\n",
       "Tenderfoot                  1\n",
       "La bataille silencieuse     1\n",
       "Cuernos de mujer            1\n",
       "Vesyolyye Zhabokrichi       1\n",
       "Animate My Heart            1\n",
       "Name: title, Length: 210691, dtype: int64"
      ]
     },
     "execution_count": 21,
     "metadata": {},
     "output_type": "execute_result"
    }
   ],
   "source": [
    "# Titulos mas comunes en la historia filmografica\n",
    "title['title'].value_counts()"
   ]
  },
  {
   "cell_type": "code",
   "execution_count": 22,
   "metadata": {},
   "outputs": [],
   "source": [
    "# Cual fue la primer pelicula hecha titulada \"Romeo and Juliet\"\n",
    "primera_pelicula_RJ = title[title['title'] == 'Romeo and Juliet']\n"
   ]
  },
  {
   "cell_type": "code",
   "execution_count": 23,
   "metadata": {},
   "outputs": [
    {
     "data": {
      "text/html": [
       "<div>\n",
       "<style scoped>\n",
       "    .dataframe tbody tr th:only-of-type {\n",
       "        vertical-align: middle;\n",
       "    }\n",
       "\n",
       "    .dataframe tbody tr th {\n",
       "        vertical-align: top;\n",
       "    }\n",
       "\n",
       "    .dataframe thead th {\n",
       "        text-align: right;\n",
       "    }\n",
       "</style>\n",
       "<table border=\"1\" class=\"dataframe\">\n",
       "  <thead>\n",
       "    <tr style=\"text-align: right;\">\n",
       "      <th></th>\n",
       "      <th>title</th>\n",
       "      <th>year</th>\n",
       "    </tr>\n",
       "  </thead>\n",
       "  <tbody>\n",
       "    <tr>\n",
       "      <th>16975</th>\n",
       "      <td>Romeo and Juliet</td>\n",
       "      <td>2014</td>\n",
       "    </tr>\n",
       "    <tr>\n",
       "      <th>82622</th>\n",
       "      <td>Romeo and Juliet</td>\n",
       "      <td>1936</td>\n",
       "    </tr>\n",
       "    <tr>\n",
       "      <th>87037</th>\n",
       "      <td>Romeo and Juliet</td>\n",
       "      <td>1954</td>\n",
       "    </tr>\n",
       "    <tr>\n",
       "      <th>124702</th>\n",
       "      <td>Romeo and Juliet</td>\n",
       "      <td>1916</td>\n",
       "    </tr>\n",
       "    <tr>\n",
       "      <th>144796</th>\n",
       "      <td>Romeo and Juliet</td>\n",
       "      <td>2013</td>\n",
       "    </tr>\n",
       "    <tr>\n",
       "      <th>147308</th>\n",
       "      <td>Romeo and Juliet</td>\n",
       "      <td>1947</td>\n",
       "    </tr>\n",
       "    <tr>\n",
       "      <th>185337</th>\n",
       "      <td>Romeo and Juliet</td>\n",
       "      <td>1968</td>\n",
       "    </tr>\n",
       "    <tr>\n",
       "      <th>196039</th>\n",
       "      <td>Romeo and Juliet</td>\n",
       "      <td>1966</td>\n",
       "    </tr>\n",
       "  </tbody>\n",
       "</table>\n",
       "</div>"
      ],
      "text/plain": [
       "                   title  year\n",
       "16975   Romeo and Juliet  2014\n",
       "82622   Romeo and Juliet  1936\n",
       "87037   Romeo and Juliet  1954\n",
       "124702  Romeo and Juliet  1916\n",
       "144796  Romeo and Juliet  2013\n",
       "147308  Romeo and Juliet  1947\n",
       "185337  Romeo and Juliet  1968\n",
       "196039  Romeo and Juliet  1966"
      ]
     },
     "execution_count": 23,
     "metadata": {},
     "output_type": "execute_result"
    }
   ],
   "source": [
    "primera_pelicula_RJ"
   ]
  },
  {
   "cell_type": "code",
   "execution_count": 24,
   "metadata": {},
   "outputs": [
    {
     "data": {
      "text/html": [
       "<div>\n",
       "<style scoped>\n",
       "    .dataframe tbody tr th:only-of-type {\n",
       "        vertical-align: middle;\n",
       "    }\n",
       "\n",
       "    .dataframe tbody tr th {\n",
       "        vertical-align: top;\n",
       "    }\n",
       "\n",
       "    .dataframe thead th {\n",
       "        text-align: right;\n",
       "    }\n",
       "</style>\n",
       "<table border=\"1\" class=\"dataframe\">\n",
       "  <thead>\n",
       "    <tr style=\"text-align: right;\">\n",
       "      <th></th>\n",
       "      <th>title</th>\n",
       "      <th>year</th>\n",
       "    </tr>\n",
       "  </thead>\n",
       "  <tbody>\n",
       "    <tr>\n",
       "      <th>124702</th>\n",
       "      <td>Romeo and Juliet</td>\n",
       "      <td>1916</td>\n",
       "    </tr>\n",
       "  </tbody>\n",
       "</table>\n",
       "</div>"
      ],
      "text/plain": [
       "                   title  year\n",
       "124702  Romeo and Juliet  1916"
      ]
     },
     "execution_count": 24,
     "metadata": {},
     "output_type": "execute_result"
    }
   ],
   "source": [
    "primera_pelicula_RJ.iloc[3:4]\n"
   ]
  },
  {
   "cell_type": "code",
   "execution_count": 25,
   "metadata": {
    "scrolled": true
   },
   "outputs": [],
   "source": [
    "# Listar todas las peliculas que contengan la palabra \"Exorcist\" \n",
    "# ordenadas de la mas antigua a la mas reciente\n"
   ]
  },
  {
   "cell_type": "code",
   "execution_count": 26,
   "metadata": {},
   "outputs": [
    {
     "data": {
      "text/plain": [
       "(                                         title  year\n",
       " 88003                             The Exorcist  1973\n",
       " 49658                  O Exorcista de Mulheres  1974\n",
       " 140519                Exorcist II: The Heretic  1977\n",
       " 220073                        Kung Fu Exorcist  1978\n",
       " 17375                         The Exorcist III  1990\n",
       " 132451                        Teenage Exorcist  1991\n",
       " 117797                 Exorcist: The Beginning  2004\n",
       " 94189        Dominion: Prequel to the Exorcist  2005\n",
       " 209250  Costa Chica: Confession of an Exorcist  2006\n",
       " 86354                      Exorcist Chronicles  2007\n",
       " 130686                      The Disco Exorcist  2011\n",
       " 57932                      Exorcist Chronicles  2013\n",
       " 69974                           Shark Exorcist  2015\n",
       " 51101                            Bad Exorcists  2015\n",
       " 151850                              Exorcistas  2015\n",
       " 60700                      Accidental Exorcist  2016\n",
       " 161093                       American Exorcist  2016\n",
       " 195615                    Diary of an Exorcist  2016\n",
       " 228642                  Exorcist House of Evil  2016,)"
      ]
     },
     "execution_count": 26,
     "metadata": {},
     "output_type": "execute_result"
    }
   ],
   "source": [
    "\n",
    "title[title['title'].str.contains(\"Exorcist\")].sort_values(['year'], ascending=[True,]),\n"
   ]
  },
  {
   "cell_type": "code",
   "execution_count": null,
   "metadata": {},
   "outputs": [],
   "source": []
  },
  {
   "cell_type": "code",
   "execution_count": 27,
   "metadata": {},
   "outputs": [
    {
     "data": {
      "text/plain": [
       "title    1081\n",
       "year     1081\n",
       "dtype: int64"
      ]
     },
     "execution_count": 27,
     "metadata": {},
     "output_type": "execute_result"
    }
   ],
   "source": [
    "# Cuantas peliculas fueron hechas en el año 1950?\n",
    "\n",
    "title.query(\"year == 1950\").count()"
   ]
  },
  {
   "cell_type": "code",
   "execution_count": 28,
   "metadata": {},
   "outputs": [
    {
     "data": {
      "text/plain": [
       "title    164559\n",
       "year     164559\n",
       "dtype: int64"
      ]
     },
     "execution_count": 28,
     "metadata": {},
     "output_type": "execute_result"
    }
   ],
   "source": [
    "# Cuantas peliculas fueron despues del año 1970?\n",
    "title.query(\"year > 1970\").count()\n",
    "#peliculas_D1970 = title[(title['year'] > 1970)]"
   ]
  },
  {
   "cell_type": "code",
   "execution_count": 29,
   "metadata": {},
   "outputs": [],
   "source": [
    "#peliculas_D1970.count()"
   ]
  },
  {
   "cell_type": "code",
   "execution_count": 30,
   "metadata": {},
   "outputs": [],
   "source": [
    "# Cuantas peliculas fueron hechas de 1970 a 1979\n"
   ]
  },
  {
   "cell_type": "code",
   "execution_count": 31,
   "metadata": {
    "scrolled": true
   },
   "outputs": [
    {
     "data": {
      "text/plain": [
       "title    18508\n",
       "year     18508\n",
       "dtype: int64"
      ]
     },
     "execution_count": 31,
     "metadata": {},
     "output_type": "execute_result"
    }
   ],
   "source": [
    "title.loc[(title['year'] >= 1970) & (title['year'] <= 1979)].count()"
   ]
  },
  {
   "cell_type": "markdown",
   "metadata": {},
   "source": [
    "Ahora se trabajara con el dataset de cast, importante tambien tener en cuneta que e sun dataset que se tendra que limpiar con el paso de las clases y dejarlo lo mas optimo posible"
   ]
  },
  {
   "cell_type": "code",
   "execution_count": 32,
   "metadata": {},
   "outputs": [
    {
     "data": {
      "text/plain": [
       "Index(['title', 'year', 'name', 'type', 'character', 'n'], dtype='object')"
      ]
     },
     "execution_count": 32,
     "metadata": {},
     "output_type": "execute_result"
    }
   ],
   "source": [
    "cast.columns\n"
   ]
  },
  {
   "cell_type": "code",
   "execution_count": 49,
   "metadata": {},
   "outputs": [],
   "source": [
    "The_Godfather = cast[(cast[\"title\"]== \"The Godfather\")]\n"
   ]
  },
  {
   "cell_type": "code",
   "execution_count": 68,
   "metadata": {},
   "outputs": [
    {
     "data": {
      "text/plain": [
       "75"
      ]
     },
     "execution_count": 68,
     "metadata": {},
     "output_type": "execute_result"
    }
   ],
   "source": [
    "len(The_Godfather.character.unique())"
   ]
  },
  {
   "cell_type": "code",
   "execution_count": 74,
   "metadata": {},
   "outputs": [
    {
     "data": {
      "text/html": [
       "<div>\n",
       "<style scoped>\n",
       "    .dataframe tbody tr th:only-of-type {\n",
       "        vertical-align: middle;\n",
       "    }\n",
       "\n",
       "    .dataframe tbody tr th {\n",
       "        vertical-align: top;\n",
       "    }\n",
       "\n",
       "    .dataframe thead th {\n",
       "        text-align: right;\n",
       "    }\n",
       "</style>\n",
       "<table border=\"1\" class=\"dataframe\">\n",
       "  <thead>\n",
       "    <tr style=\"text-align: right;\">\n",
       "      <th></th>\n",
       "      <th>title</th>\n",
       "      <th>year</th>\n",
       "      <th>name</th>\n",
       "      <th>type</th>\n",
       "      <th>character</th>\n",
       "      <th>n</th>\n",
       "    </tr>\n",
       "  </thead>\n",
       "  <tbody>\n",
       "    <tr>\n",
       "      <th>51214</th>\n",
       "      <td>The Godfather</td>\n",
       "      <td>1972</td>\n",
       "      <td>Chris Anastasio</td>\n",
       "      <td>actor</td>\n",
       "      <td>Policeman</td>\n",
       "      <td>NaN</td>\n",
       "    </tr>\n",
       "    <tr>\n",
       "      <th>102809</th>\n",
       "      <td>The Godfather</td>\n",
       "      <td>1972</td>\n",
       "      <td>Norm Bacchiocchi</td>\n",
       "      <td>actor</td>\n",
       "      <td>Luca Brasi's Assassin</td>\n",
       "      <td>NaN</td>\n",
       "    </tr>\n",
       "    <tr>\n",
       "      <th>220852</th>\n",
       "      <td>The Godfather</td>\n",
       "      <td>1972</td>\n",
       "      <td>Rudy Bond</td>\n",
       "      <td>actor</td>\n",
       "      <td>Cuneo</td>\n",
       "      <td>15.0</td>\n",
       "    </tr>\n",
       "    <tr>\n",
       "      <th>248000</th>\n",
       "      <td>The Godfather</td>\n",
       "      <td>1972</td>\n",
       "      <td>Marlon Brando</td>\n",
       "      <td>actor</td>\n",
       "      <td>Don Vito Corleone</td>\n",
       "      <td>1.0</td>\n",
       "    </tr>\n",
       "    <tr>\n",
       "      <th>248738</th>\n",
       "      <td>The Godfather</td>\n",
       "      <td>1972</td>\n",
       "      <td>Max Brandt</td>\n",
       "      <td>actor</td>\n",
       "      <td>Extra in Furniture-Moving Scene</td>\n",
       "      <td>NaN</td>\n",
       "    </tr>\n",
       "    <tr>\n",
       "      <th>...</th>\n",
       "      <td>...</td>\n",
       "      <td>...</td>\n",
       "      <td>...</td>\n",
       "      <td>...</td>\n",
       "      <td>...</td>\n",
       "      <td>...</td>\n",
       "    </tr>\n",
       "    <tr>\n",
       "      <th>3137607</th>\n",
       "      <td>The Godfather</td>\n",
       "      <td>1972</td>\n",
       "      <td>Carol Morley</td>\n",
       "      <td>actress</td>\n",
       "      <td>Night Nurse</td>\n",
       "      <td>NaN</td>\n",
       "    </tr>\n",
       "    <tr>\n",
       "      <th>3360381</th>\n",
       "      <td>The Godfather</td>\n",
       "      <td>1972</td>\n",
       "      <td>Ardell Sheridan</td>\n",
       "      <td>actress</td>\n",
       "      <td>Mrs. Clemenza</td>\n",
       "      <td>29.0</td>\n",
       "    </tr>\n",
       "    <tr>\n",
       "      <th>3363276</th>\n",
       "      <td>The Godfather</td>\n",
       "      <td>1972</td>\n",
       "      <td>Talia Shire</td>\n",
       "      <td>actress</td>\n",
       "      <td>Connie</td>\n",
       "      <td>12.0</td>\n",
       "    </tr>\n",
       "    <tr>\n",
       "      <th>3390198</th>\n",
       "      <td>The Godfather</td>\n",
       "      <td>1972</td>\n",
       "      <td>Filomena Spagnuolo</td>\n",
       "      <td>actress</td>\n",
       "      <td>Extra in Wedding Scene</td>\n",
       "      <td>NaN</td>\n",
       "    </tr>\n",
       "    <tr>\n",
       "      <th>3399922</th>\n",
       "      <td>The Godfather</td>\n",
       "      <td>1972</td>\n",
       "      <td>Simonetta Stefanelli</td>\n",
       "      <td>actress</td>\n",
       "      <td>Apollonia - Sicilian Sequence</td>\n",
       "      <td>30.0</td>\n",
       "    </tr>\n",
       "  </tbody>\n",
       "</table>\n",
       "<p>76 rows × 6 columns</p>\n",
       "</div>"
      ],
      "text/plain": [
       "                 title  year                  name     type  \\\n",
       "51214    The Godfather  1972       Chris Anastasio    actor   \n",
       "102809   The Godfather  1972      Norm Bacchiocchi    actor   \n",
       "220852   The Godfather  1972             Rudy Bond    actor   \n",
       "248000   The Godfather  1972         Marlon Brando    actor   \n",
       "248738   The Godfather  1972            Max Brandt    actor   \n",
       "...                ...   ...                   ...      ...   \n",
       "3137607  The Godfather  1972          Carol Morley  actress   \n",
       "3360381  The Godfather  1972       Ardell Sheridan  actress   \n",
       "3363276  The Godfather  1972           Talia Shire  actress   \n",
       "3390198  The Godfather  1972    Filomena Spagnuolo  actress   \n",
       "3399922  The Godfather  1972  Simonetta Stefanelli  actress   \n",
       "\n",
       "                               character     n  \n",
       "51214                          Policeman   NaN  \n",
       "102809             Luca Brasi's Assassin   NaN  \n",
       "220852                             Cuneo  15.0  \n",
       "248000                 Don Vito Corleone   1.0  \n",
       "248738   Extra in Furniture-Moving Scene   NaN  \n",
       "...                                  ...   ...  \n",
       "3137607                      Night Nurse   NaN  \n",
       "3360381                    Mrs. Clemenza  29.0  \n",
       "3363276                           Connie  12.0  \n",
       "3390198           Extra in Wedding Scene   NaN  \n",
       "3399922    Apollonia - Sicilian Sequence  30.0  \n",
       "\n",
       "[76 rows x 6 columns]"
      ]
     },
     "execution_count": 74,
     "metadata": {},
     "output_type": "execute_result"
    }
   ],
   "source": [
    "# Cuantos roles o papeles hubo en la pelicula \"The Godfather\"\n",
    "\n",
    "\n",
    "#Doy la solución a este punto para que vean que es lo que se pide\n",
    "\n",
    "cast.loc[cast.title == \"The Godfather\"]"
   ]
  },
  {
   "cell_type": "code",
   "execution_count": 90,
   "metadata": {},
   "outputs": [
    {
     "data": {
      "text/plain": [
       "34"
      ]
     },
     "execution_count": 90,
     "metadata": {},
     "output_type": "execute_result"
    }
   ],
   "source": [
    "# Cuantos papeles en la pelicula \"The Godfather\" si estuvieron clasificados con un valor \"n\"\n",
    "\n",
    "(The_Godfather.groupby([\"character\"])[\"n\"].value_counts()).count()\n"
   ]
  },
  {
   "cell_type": "code",
   "execution_count": 141,
   "metadata": {},
   "outputs": [],
   "source": [
    "# Mostrar el elenco completo de la pelicula \"2001: A Space Odyssey\" \n",
    "# ordenado por su clasificasión \"n\", ignorando los papeles que no se les asigno ningun valor \"n\"\n",
    "Space_O = cast[(cast[\"title\"] ==\"2001: A Space Odyssey\")]\n",
    "#cast.loc[(cast[\"title\"]== \"2001: A Space Odyssey\")].loc[cast[\"name\"]]"
   ]
  },
  {
   "cell_type": "code",
   "execution_count": 148,
   "metadata": {},
   "outputs": [],
   "source": [
    "Space = Space_O[['name', \"n\"]]"
   ]
  },
  {
   "cell_type": "code",
   "execution_count": 150,
   "metadata": {},
   "outputs": [
    {
     "data": {
      "text/html": [
       "<div>\n",
       "<style scoped>\n",
       "    .dataframe tbody tr th:only-of-type {\n",
       "        vertical-align: middle;\n",
       "    }\n",
       "\n",
       "    .dataframe tbody tr th {\n",
       "        vertical-align: top;\n",
       "    }\n",
       "\n",
       "    .dataframe thead th {\n",
       "        text-align: right;\n",
       "    }\n",
       "</style>\n",
       "<table border=\"1\" class=\"dataframe\">\n",
       "  <thead>\n",
       "    <tr style=\"text-align: right;\">\n",
       "      <th></th>\n",
       "      <th>name</th>\n",
       "      <th>n</th>\n",
       "    </tr>\n",
       "  </thead>\n",
       "  <tbody>\n",
       "    <tr>\n",
       "      <th>2359428</th>\n",
       "      <td>Richard (II) Woods</td>\n",
       "      <td>39.0</td>\n",
       "    </tr>\n",
       "    <tr>\n",
       "      <th>2343583</th>\n",
       "      <td>Bob Wilyman</td>\n",
       "      <td>38.0</td>\n",
       "    </tr>\n",
       "    <tr>\n",
       "      <th>2273687</th>\n",
       "      <td>Andy Wallace</td>\n",
       "      <td>37.0</td>\n",
       "    </tr>\n",
       "    <tr>\n",
       "      <th>1801551</th>\n",
       "      <td>Joe Refalo</td>\n",
       "      <td>36.0</td>\n",
       "    </tr>\n",
       "    <tr>\n",
       "      <th>1644362</th>\n",
       "      <td>Darryl Paes</td>\n",
       "      <td>35.0</td>\n",
       "    </tr>\n",
       "    <tr>\n",
       "      <th>1361809</th>\n",
       "      <td>Laurence Marchant</td>\n",
       "      <td>34.0</td>\n",
       "    </tr>\n",
       "    <tr>\n",
       "      <th>1329956</th>\n",
       "      <td>Scott MacKee</td>\n",
       "      <td>33.0</td>\n",
       "    </tr>\n",
       "    <tr>\n",
       "      <th>1074233</th>\n",
       "      <td>John (X) Jordan</td>\n",
       "      <td>32.0</td>\n",
       "    </tr>\n",
       "    <tr>\n",
       "      <th>1030910</th>\n",
       "      <td>Tony Jackson</td>\n",
       "      <td>31.0</td>\n",
       "    </tr>\n",
       "    <tr>\n",
       "      <th>954413</th>\n",
       "      <td>David Hines</td>\n",
       "      <td>30.0</td>\n",
       "    </tr>\n",
       "    <tr>\n",
       "      <th>916925</th>\n",
       "      <td>Brian Hawley</td>\n",
       "      <td>29.0</td>\n",
       "    </tr>\n",
       "    <tr>\n",
       "      <th>849029</th>\n",
       "      <td>Danny Grover</td>\n",
       "      <td>28.0</td>\n",
       "    </tr>\n",
       "    <tr>\n",
       "      <th>702077</th>\n",
       "      <td>David Fleetwood</td>\n",
       "      <td>27.0</td>\n",
       "    </tr>\n",
       "    <tr>\n",
       "      <th>601760</th>\n",
       "      <td>Terry Duggan</td>\n",
       "      <td>26.0</td>\n",
       "    </tr>\n",
       "    <tr>\n",
       "      <th>541763</th>\n",
       "      <td>P?ter Delm?r</td>\n",
       "      <td>25.0</td>\n",
       "    </tr>\n",
       "    <tr>\n",
       "      <th>515635</th>\n",
       "      <td>Jonathan Daw</td>\n",
       "      <td>24.0</td>\n",
       "    </tr>\n",
       "    <tr>\n",
       "      <th>514378</th>\n",
       "      <td>Simon Davis</td>\n",
       "      <td>23.0</td>\n",
       "    </tr>\n",
       "    <tr>\n",
       "      <th>373027</th>\n",
       "      <td>David Charkham</td>\n",
       "      <td>22.0</td>\n",
       "    </tr>\n",
       "    <tr>\n",
       "      <th>161571</th>\n",
       "      <td>Jimmy Bell</td>\n",
       "      <td>21.0</td>\n",
       "    </tr>\n",
       "    <tr>\n",
       "      <th>85047</th>\n",
       "      <td>John (III) Ashley</td>\n",
       "      <td>20.0</td>\n",
       "    </tr>\n",
       "    <tr>\n",
       "      <th>1302983</th>\n",
       "      <td>Mike Lovell</td>\n",
       "      <td>19.0</td>\n",
       "    </tr>\n",
       "    <tr>\n",
       "      <th>2690543</th>\n",
       "      <td>Heather Downham</td>\n",
       "      <td>18.0</td>\n",
       "    </tr>\n",
       "    <tr>\n",
       "      <th>2529579</th>\n",
       "      <td>Penny Brahms</td>\n",
       "      <td>17.0</td>\n",
       "    </tr>\n",
       "    <tr>\n",
       "      <th>2572025</th>\n",
       "      <td>Edwina Carroll</td>\n",
       "      <td>16.0</td>\n",
       "    </tr>\n",
       "    <tr>\n",
       "      <th>2787922</th>\n",
       "      <td>Ann Gillis</td>\n",
       "      <td>15.0</td>\n",
       "    </tr>\n",
       "    <tr>\n",
       "      <th>788106</th>\n",
       "      <td>Alan Gifford</td>\n",
       "      <td>14.0</td>\n",
       "    </tr>\n",
       "    <tr>\n",
       "      <th>153470</th>\n",
       "      <td>Glenn Beck</td>\n",
       "      <td>13.0</td>\n",
       "    </tr>\n",
       "    <tr>\n",
       "      <th>197975</th>\n",
       "      <td>Ed Bishop</td>\n",
       "      <td>12.0</td>\n",
       "    </tr>\n",
       "    <tr>\n",
       "      <th>2310523</th>\n",
       "      <td>Bill Weston</td>\n",
       "      <td>11.0</td>\n",
       "    </tr>\n",
       "    <tr>\n",
       "      <th>1469910</th>\n",
       "      <td>Frank Miller</td>\n",
       "      <td>10.0</td>\n",
       "    </tr>\n",
       "    <tr>\n",
       "      <th>1775057</th>\n",
       "      <td>Douglas Rain</td>\n",
       "      <td>9.0</td>\n",
       "    </tr>\n",
       "    <tr>\n",
       "      <th>2101643</th>\n",
       "      <td>Sean Sullivan</td>\n",
       "      <td>8.0</td>\n",
       "    </tr>\n",
       "    <tr>\n",
       "      <th>151781</th>\n",
       "      <td>Robert Beatty</td>\n",
       "      <td>7.0</td>\n",
       "    </tr>\n",
       "    <tr>\n",
       "      <th>3464754</th>\n",
       "      <td>Margaret Tyzack</td>\n",
       "      <td>6.0</td>\n",
       "    </tr>\n",
       "    <tr>\n",
       "      <th>1872093</th>\n",
       "      <td>Leonard Rossiter</td>\n",
       "      <td>5.0</td>\n",
       "    </tr>\n",
       "    <tr>\n",
       "      <th>1823947</th>\n",
       "      <td>Daniel Richter</td>\n",
       "      <td>4.0</td>\n",
       "    </tr>\n",
       "    <tr>\n",
       "      <th>2113186</th>\n",
       "      <td>William Sylvester</td>\n",
       "      <td>3.0</td>\n",
       "    </tr>\n",
       "    <tr>\n",
       "      <th>1288927</th>\n",
       "      <td>Gary Lockwood</td>\n",
       "      <td>2.0</td>\n",
       "    </tr>\n",
       "    <tr>\n",
       "      <th>602795</th>\n",
       "      <td>Keir Dullea</td>\n",
       "      <td>1.0</td>\n",
       "    </tr>\n",
       "    <tr>\n",
       "      <th>49363</th>\n",
       "      <td>Martin Amor</td>\n",
       "      <td>NaN</td>\n",
       "    </tr>\n",
       "    <tr>\n",
       "      <th>55115</th>\n",
       "      <td>S. Newton Anderson</td>\n",
       "      <td>NaN</td>\n",
       "    </tr>\n",
       "    <tr>\n",
       "      <th>413298</th>\n",
       "      <td>John Clifford</td>\n",
       "      <td>NaN</td>\n",
       "    </tr>\n",
       "    <tr>\n",
       "      <th>462887</th>\n",
       "      <td>Harold Coyne</td>\n",
       "      <td>NaN</td>\n",
       "    </tr>\n",
       "    <tr>\n",
       "      <th>1121087</th>\n",
       "      <td>Kenneth Kendall</td>\n",
       "      <td>NaN</td>\n",
       "    </tr>\n",
       "    <tr>\n",
       "      <th>1219287</th>\n",
       "      <td>Roy Lansford</td>\n",
       "      <td>NaN</td>\n",
       "    </tr>\n",
       "    <tr>\n",
       "      <th>1263965</th>\n",
       "      <td>Jordan (VI) Levy</td>\n",
       "      <td>NaN</td>\n",
       "    </tr>\n",
       "    <tr>\n",
       "      <th>1741274</th>\n",
       "      <td>Ivor Powell</td>\n",
       "      <td>NaN</td>\n",
       "    </tr>\n",
       "    <tr>\n",
       "      <th>1951234</th>\n",
       "      <td>Kevin Scott</td>\n",
       "      <td>NaN</td>\n",
       "    </tr>\n",
       "    <tr>\n",
       "      <th>2111934</th>\n",
       "      <td>John Swindells</td>\n",
       "      <td>NaN</td>\n",
       "    </tr>\n",
       "    <tr>\n",
       "      <th>2194992</th>\n",
       "      <td>Burnell Tucker</td>\n",
       "      <td>NaN</td>\n",
       "    </tr>\n",
       "    <tr>\n",
       "      <th>2970794</th>\n",
       "      <td>Vivian Kubrick</td>\n",
       "      <td>NaN</td>\n",
       "    </tr>\n",
       "    <tr>\n",
       "      <th>3028729</th>\n",
       "      <td>Maggie London</td>\n",
       "      <td>NaN</td>\n",
       "    </tr>\n",
       "    <tr>\n",
       "      <th>3068615</th>\n",
       "      <td>Irena Marr</td>\n",
       "      <td>NaN</td>\n",
       "    </tr>\n",
       "    <tr>\n",
       "      <th>3068626</th>\n",
       "      <td>Krystyna Marr</td>\n",
       "      <td>NaN</td>\n",
       "    </tr>\n",
       "    <tr>\n",
       "      <th>3080475</th>\n",
       "      <td>Chela Matthison</td>\n",
       "      <td>NaN</td>\n",
       "    </tr>\n",
       "  </tbody>\n",
       "</table>\n",
       "</div>"
      ],
      "text/plain": [
       "                       name     n\n",
       "2359428  Richard (II) Woods  39.0\n",
       "2343583         Bob Wilyman  38.0\n",
       "2273687        Andy Wallace  37.0\n",
       "1801551          Joe Refalo  36.0\n",
       "1644362         Darryl Paes  35.0\n",
       "1361809   Laurence Marchant  34.0\n",
       "1329956        Scott MacKee  33.0\n",
       "1074233     John (X) Jordan  32.0\n",
       "1030910        Tony Jackson  31.0\n",
       "954413          David Hines  30.0\n",
       "916925         Brian Hawley  29.0\n",
       "849029         Danny Grover  28.0\n",
       "702077      David Fleetwood  27.0\n",
       "601760         Terry Duggan  26.0\n",
       "541763         P?ter Delm?r  25.0\n",
       "515635         Jonathan Daw  24.0\n",
       "514378          Simon Davis  23.0\n",
       "373027       David Charkham  22.0\n",
       "161571           Jimmy Bell  21.0\n",
       "85047     John (III) Ashley  20.0\n",
       "1302983         Mike Lovell  19.0\n",
       "2690543     Heather Downham  18.0\n",
       "2529579        Penny Brahms  17.0\n",
       "2572025      Edwina Carroll  16.0\n",
       "2787922          Ann Gillis  15.0\n",
       "788106         Alan Gifford  14.0\n",
       "153470           Glenn Beck  13.0\n",
       "197975            Ed Bishop  12.0\n",
       "2310523         Bill Weston  11.0\n",
       "1469910        Frank Miller  10.0\n",
       "1775057        Douglas Rain   9.0\n",
       "2101643       Sean Sullivan   8.0\n",
       "151781        Robert Beatty   7.0\n",
       "3464754     Margaret Tyzack   6.0\n",
       "1872093    Leonard Rossiter   5.0\n",
       "1823947      Daniel Richter   4.0\n",
       "2113186   William Sylvester   3.0\n",
       "1288927       Gary Lockwood   2.0\n",
       "602795          Keir Dullea   1.0\n",
       "49363           Martin Amor   NaN\n",
       "55115    S. Newton Anderson   NaN\n",
       "413298        John Clifford   NaN\n",
       "462887         Harold Coyne   NaN\n",
       "1121087     Kenneth Kendall   NaN\n",
       "1219287        Roy Lansford   NaN\n",
       "1263965    Jordan (VI) Levy   NaN\n",
       "1741274         Ivor Powell   NaN\n",
       "1951234         Kevin Scott   NaN\n",
       "2111934      John Swindells   NaN\n",
       "2194992      Burnell Tucker   NaN\n",
       "2970794      Vivian Kubrick   NaN\n",
       "3028729       Maggie London   NaN\n",
       "3068615          Irena Marr   NaN\n",
       "3068626       Krystyna Marr   NaN\n",
       "3080475     Chela Matthison   NaN"
      ]
     },
     "execution_count": 150,
     "metadata": {},
     "output_type": "execute_result"
    }
   ],
   "source": [
    "Space.sort_values(by='n', ascending =False)"
   ]
  },
  {
   "cell_type": "code",
   "execution_count": 137,
   "metadata": {},
   "outputs": [],
   "source": [
    "# Mostrar el elenco completo ordenado por la clasificacion \"n\"\n",
    "# de la pelicula \"Dracula\" de 1958\n",
    "\n",
    "dracula_1958 =cast.loc[(cast[\"title\"]== \"Dracula\")].loc[cast[\"year\"]==1958]"
   ]
  },
  {
   "cell_type": "code",
   "execution_count": 139,
   "metadata": {},
   "outputs": [
    {
     "data": {
      "text/html": [
       "<div>\n",
       "<style scoped>\n",
       "    .dataframe tbody tr th:only-of-type {\n",
       "        vertical-align: middle;\n",
       "    }\n",
       "\n",
       "    .dataframe tbody tr th {\n",
       "        vertical-align: top;\n",
       "    }\n",
       "\n",
       "    .dataframe thead th {\n",
       "        text-align: right;\n",
       "    }\n",
       "</style>\n",
       "<table border=\"1\" class=\"dataframe\">\n",
       "  <thead>\n",
       "    <tr style=\"text-align: right;\">\n",
       "      <th></th>\n",
       "      <th>title</th>\n",
       "      <th>year</th>\n",
       "      <th>name</th>\n",
       "      <th>type</th>\n",
       "      <th>character</th>\n",
       "      <th>n</th>\n",
       "    </tr>\n",
       "  </thead>\n",
       "  <tbody>\n",
       "    <tr>\n",
       "      <th>423307</th>\n",
       "      <td>Dracula</td>\n",
       "      <td>1958</td>\n",
       "      <td>Paul Cole</td>\n",
       "      <td>actor</td>\n",
       "      <td>Lad</td>\n",
       "      <td>17.0</td>\n",
       "    </tr>\n",
       "    <tr>\n",
       "      <th>148496</th>\n",
       "      <td>Dracula</td>\n",
       "      <td>1958</td>\n",
       "      <td>Geoffrey Bayldon</td>\n",
       "      <td>actor</td>\n",
       "      <td>Porter</td>\n",
       "      <td>16.0</td>\n",
       "    </tr>\n",
       "    <tr>\n",
       "      <th>1347640</th>\n",
       "      <td>Dracula</td>\n",
       "      <td>1958</td>\n",
       "      <td>Miles Malleson</td>\n",
       "      <td>actor</td>\n",
       "      <td>Undertaker</td>\n",
       "      <td>15.0</td>\n",
       "    </tr>\n",
       "    <tr>\n",
       "      <th>171732</th>\n",
       "      <td>Dracula</td>\n",
       "      <td>1958</td>\n",
       "      <td>George Benson</td>\n",
       "      <td>actor</td>\n",
       "      <td>Official</td>\n",
       "      <td>14.0</td>\n",
       "    </tr>\n",
       "    <tr>\n",
       "      <th>2357769</th>\n",
       "      <td>Dracula</td>\n",
       "      <td>1958</td>\n",
       "      <td>George Woodbridge</td>\n",
       "      <td>actor</td>\n",
       "      <td>Landlord</td>\n",
       "      <td>13.0</td>\n",
       "    </tr>\n",
       "    <tr>\n",
       "      <th>1453367</th>\n",
       "      <td>Dracula</td>\n",
       "      <td>1958</td>\n",
       "      <td>George Merritt</td>\n",
       "      <td>actor</td>\n",
       "      <td>Policeman</td>\n",
       "      <td>12.0</td>\n",
       "    </tr>\n",
       "    <tr>\n",
       "      <th>1285506</th>\n",
       "      <td>Dracula</td>\n",
       "      <td>1958</td>\n",
       "      <td>Charles Lloyd Pack</td>\n",
       "      <td>actor</td>\n",
       "      <td>Doctor Seward</td>\n",
       "      <td>11.0</td>\n",
       "    </tr>\n",
       "    <tr>\n",
       "      <th>2444220</th>\n",
       "      <td>Dracula</td>\n",
       "      <td>1958</td>\n",
       "      <td>Barbara Archer</td>\n",
       "      <td>actress</td>\n",
       "      <td>Inga</td>\n",
       "      <td>10.0</td>\n",
       "    </tr>\n",
       "    <tr>\n",
       "      <th>2731182</th>\n",
       "      <td>Dracula</td>\n",
       "      <td>1958</td>\n",
       "      <td>Janina Faye</td>\n",
       "      <td>actress</td>\n",
       "      <td>Tania</td>\n",
       "      <td>9.0</td>\n",
       "    </tr>\n",
       "    <tr>\n",
       "      <th>2777216</th>\n",
       "      <td>Dracula</td>\n",
       "      <td>1958</td>\n",
       "      <td>Valerie Gaunt</td>\n",
       "      <td>actress</td>\n",
       "      <td>Vampire Woman</td>\n",
       "      <td>8.0</td>\n",
       "    </tr>\n",
       "    <tr>\n",
       "      <th>2220986</th>\n",
       "      <td>Dracula</td>\n",
       "      <td>1958</td>\n",
       "      <td>John Van Eyssen</td>\n",
       "      <td>actor</td>\n",
       "      <td>Jonathan</td>\n",
       "      <td>7.0</td>\n",
       "    </tr>\n",
       "    <tr>\n",
       "      <th>2677557</th>\n",
       "      <td>Dracula</td>\n",
       "      <td>1958</td>\n",
       "      <td>Olga Dickie</td>\n",
       "      <td>actress</td>\n",
       "      <td>Gerda</td>\n",
       "      <td>6.0</td>\n",
       "    </tr>\n",
       "    <tr>\n",
       "      <th>3069196</th>\n",
       "      <td>Dracula</td>\n",
       "      <td>1958</td>\n",
       "      <td>Carol Marsh</td>\n",
       "      <td>actress</td>\n",
       "      <td>Lucy</td>\n",
       "      <td>5.0</td>\n",
       "    </tr>\n",
       "    <tr>\n",
       "      <th>3410427</th>\n",
       "      <td>Dracula</td>\n",
       "      <td>1958</td>\n",
       "      <td>Melissa Stribling</td>\n",
       "      <td>actress</td>\n",
       "      <td>Mina</td>\n",
       "      <td>4.0</td>\n",
       "    </tr>\n",
       "    <tr>\n",
       "      <th>822398</th>\n",
       "      <td>Dracula</td>\n",
       "      <td>1958</td>\n",
       "      <td>Michael Gough</td>\n",
       "      <td>actor</td>\n",
       "      <td>Arthur</td>\n",
       "      <td>3.0</td>\n",
       "    </tr>\n",
       "    <tr>\n",
       "      <th>1242308</th>\n",
       "      <td>Dracula</td>\n",
       "      <td>1958</td>\n",
       "      <td>Christopher Lee</td>\n",
       "      <td>actor</td>\n",
       "      <td>Count Dracula</td>\n",
       "      <td>2.0</td>\n",
       "    </tr>\n",
       "    <tr>\n",
       "      <th>1242307</th>\n",
       "      <td>Dracula</td>\n",
       "      <td>1958</td>\n",
       "      <td>Christopher Lee</td>\n",
       "      <td>actor</td>\n",
       "      <td>Dracula</td>\n",
       "      <td>2.0</td>\n",
       "    </tr>\n",
       "    <tr>\n",
       "      <th>485197</th>\n",
       "      <td>Dracula</td>\n",
       "      <td>1958</td>\n",
       "      <td>Peter Cushing</td>\n",
       "      <td>actor</td>\n",
       "      <td>Doctor Van Helsing</td>\n",
       "      <td>1.0</td>\n",
       "    </tr>\n",
       "    <tr>\n",
       "      <th>1475047</th>\n",
       "      <td>Dracula</td>\n",
       "      <td>1958</td>\n",
       "      <td>Guy Mills</td>\n",
       "      <td>actor</td>\n",
       "      <td>Coach Driver</td>\n",
       "      <td>NaN</td>\n",
       "    </tr>\n",
       "    <tr>\n",
       "      <th>1513434</th>\n",
       "      <td>Dracula</td>\n",
       "      <td>1958</td>\n",
       "      <td>Richard (VIII) Morgan</td>\n",
       "      <td>actor</td>\n",
       "      <td>Coach Driver's Companion</td>\n",
       "      <td>NaN</td>\n",
       "    </tr>\n",
       "    <tr>\n",
       "      <th>1524497</th>\n",
       "      <td>Dracula</td>\n",
       "      <td>1958</td>\n",
       "      <td>John (II) Mossman</td>\n",
       "      <td>actor</td>\n",
       "      <td>Hearse Driver</td>\n",
       "      <td>NaN</td>\n",
       "    </tr>\n",
       "  </tbody>\n",
       "</table>\n",
       "</div>"
      ],
      "text/plain": [
       "           title  year                   name     type  \\\n",
       "423307   Dracula  1958              Paul Cole    actor   \n",
       "148496   Dracula  1958       Geoffrey Bayldon    actor   \n",
       "1347640  Dracula  1958         Miles Malleson    actor   \n",
       "171732   Dracula  1958          George Benson    actor   \n",
       "2357769  Dracula  1958      George Woodbridge    actor   \n",
       "1453367  Dracula  1958         George Merritt    actor   \n",
       "1285506  Dracula  1958     Charles Lloyd Pack    actor   \n",
       "2444220  Dracula  1958         Barbara Archer  actress   \n",
       "2731182  Dracula  1958            Janina Faye  actress   \n",
       "2777216  Dracula  1958          Valerie Gaunt  actress   \n",
       "2220986  Dracula  1958        John Van Eyssen    actor   \n",
       "2677557  Dracula  1958            Olga Dickie  actress   \n",
       "3069196  Dracula  1958            Carol Marsh  actress   \n",
       "3410427  Dracula  1958      Melissa Stribling  actress   \n",
       "822398   Dracula  1958          Michael Gough    actor   \n",
       "1242308  Dracula  1958        Christopher Lee    actor   \n",
       "1242307  Dracula  1958        Christopher Lee    actor   \n",
       "485197   Dracula  1958          Peter Cushing    actor   \n",
       "1475047  Dracula  1958              Guy Mills    actor   \n",
       "1513434  Dracula  1958  Richard (VIII) Morgan    actor   \n",
       "1524497  Dracula  1958      John (II) Mossman    actor   \n",
       "\n",
       "                        character     n  \n",
       "423307                        Lad  17.0  \n",
       "148496                     Porter  16.0  \n",
       "1347640                Undertaker  15.0  \n",
       "171732                   Official  14.0  \n",
       "2357769                  Landlord  13.0  \n",
       "1453367                 Policeman  12.0  \n",
       "1285506             Doctor Seward  11.0  \n",
       "2444220                      Inga  10.0  \n",
       "2731182                     Tania   9.0  \n",
       "2777216             Vampire Woman   8.0  \n",
       "2220986                  Jonathan   7.0  \n",
       "2677557                     Gerda   6.0  \n",
       "3069196                      Lucy   5.0  \n",
       "3410427                      Mina   4.0  \n",
       "822398                     Arthur   3.0  \n",
       "1242308             Count Dracula   2.0  \n",
       "1242307                   Dracula   2.0  \n",
       "485197         Doctor Van Helsing   1.0  \n",
       "1475047              Coach Driver   NaN  \n",
       "1513434  Coach Driver's Companion   NaN  \n",
       "1524497             Hearse Driver   NaN  "
      ]
     },
     "execution_count": 139,
     "metadata": {},
     "output_type": "execute_result"
    }
   ],
   "source": [
    "dracula_1958.sort_values(by='n', ascending =False)"
   ]
  },
  {
   "cell_type": "code",
   "execution_count": 111,
   "metadata": {},
   "outputs": [
    {
     "data": {
      "text/plain": [
       "title        38\n",
       "year         38\n",
       "name         38\n",
       "type         38\n",
       "character    38\n",
       "n            26\n",
       "dtype: int64"
      ]
     },
     "execution_count": 111,
     "metadata": {},
     "output_type": "execute_result"
    }
   ],
   "source": [
    "# Cuantos papeles de \"Bruce Wayne\" han sido hechos en la historia  de las peliculas (papeles hace referencia a la coulumna character)\n",
    "cast.loc[(cast[\"character\"]== 'Bruce Wayne')].count()"
   ]
  },
  {
   "cell_type": "code",
   "execution_count": null,
   "metadata": {},
   "outputs": [],
   "source": []
  }
 ],
 "metadata": {
  "kernelspec": {
   "display_name": "Python 3",
   "language": "python",
   "name": "python3"
  },
  "language_info": {
   "codemirror_mode": {
    "name": "ipython",
    "version": 3
   },
   "file_extension": ".py",
   "mimetype": "text/x-python",
   "name": "python",
   "nbconvert_exporter": "python",
   "pygments_lexer": "ipython3",
   "version": "3.8.8"
  }
 },
 "nbformat": 4,
 "nbformat_minor": 2
}
